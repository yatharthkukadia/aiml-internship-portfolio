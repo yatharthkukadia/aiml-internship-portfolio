{
  "cells": [
    {
      "cell_type": "code",
      "execution_count": 7,
      "metadata": {
        "id": "Rs_9IgVi8zO0"
      },
      "outputs": [],
      "source": [
        "import tiktoken\n",
        "import ipywidgets as widgets\n",
        "from IPython.display import display, Markdown"
      ]
    },
    {
      "cell_type": "code",
      "execution_count": 8,
      "metadata": {
        "id": "3pvSjK3Z9Mc4"
      },
      "outputs": [],
      "source": [
        "model_pricing = {\n",
        "    'gpt-3.5-turbo': 0.0015,\n",
        "    'gpt-4':0.03,\n",
        "    'gpt-4-turbo':0.01\n",
        "}"
      ]
    },
    {
      "cell_type": "code",
      "execution_count": 9,
      "metadata": {},
      "outputs": [],
      "source": [
        "usd_to_inr = 83.0 "
      ]
    },
    {
      "cell_type": "code",
      "execution_count": 10,
      "metadata": {
        "id": "kqAiavwf9dXD"
      },
      "outputs": [],
      "source": [
        "def count_tokens(text, model):\n",
        "  try:\n",
        "      enc = tiktoken.encoding_for_model(model)\n",
        "  except KeyError:\n",
        "    enc = tiktoken.get_encoding('cl100k_base')\n",
        "  tokens = enc.encode(text)\n",
        "  return len(tokens)"
      ]
    },
    {
      "cell_type": "code",
      "execution_count": 11,
      "metadata": {
        "id": "eq5lar329158"
      },
      "outputs": [],
      "source": [
        "def estimate_cost(token, model):\n",
        "  price_per_1k = model_pricing[model]\n",
        "  cost_usd = (token / 1000) * price_per_1k\n",
        "  cost_inr = cost_usd * usd_to_inr\n",
        "  return cost_usd, cost_inr"
      ]
    },
    {
      "cell_type": "code",
      "execution_count": 12,
      "metadata": {
        "id": "k-OgTBIM-DKp"
      },
      "outputs": [],
      "source": [
        "text_input = widgets.Textarea(\n",
        "    placeholder='Type something...',\n",
        "    description='Input:',\n",
        "    layout=widgets.Layout(width='100%', height='150px')\n",
        ")"
      ]
    },
    {
      "cell_type": "code",
      "execution_count": 13,
      "metadata": {
        "id": "N9_CHvUT-gt1"
      },
      "outputs": [],
      "source": [
        "model_dropdown = widgets.Dropdown(\n",
        "    options=list(model_pricing.keys()),\n",
        "    value='gpt-3.5-turbo',\n",
        "    description='Model:'\n",
        ")"
      ]
    },
    {
      "cell_type": "code",
      "execution_count": 14,
      "metadata": {
        "id": "LLG5P8Vh-yTb"
      },
      "outputs": [],
      "source": [
        "run_button = widgets.Button(\n",
        "    description='Estimate Tokens & Cost',\n",
        "    button_style='success'\n",
        ")"
      ]
    },
    {
      "cell_type": "code",
      "execution_count": 15,
      "metadata": {
        "id": "DQFsXuiR_QhY"
      },
      "outputs": [],
      "source": [
        "output = widgets.Output()"
      ]
    },
    {
      "cell_type": "code",
      "execution_count": 16,
      "metadata": {
        "id": "-MIUXha1_Bfa"
      },
      "outputs": [],
      "source": [
        "def on_button_click(b):\n",
        "    with output:\n",
        "        output.clear_output()\n",
        "        text = text_input.value\n",
        "        model = model_dropdown.value\n",
        "        token_count = count_tokens(text, model)\n",
        "        cost_usd, cost_inr = estimate_cost(token_count, model)\n",
        "        display(Markdown(f\"**Token Count:** `{token_count}`\"))\n",
        "        display(Markdown(f\"**Estimated Cost:** `${cost_usd:.6f}` USD\"))\n",
        "        display(Markdown(f\"**Estimated Cost:** `₹{cost_inr:.2f}` INR\"))\n"
      ]
    },
    {
      "cell_type": "code",
      "execution_count": 17,
      "metadata": {
        "id": "R1Oj8IWX_T14"
      },
      "outputs": [],
      "source": [
        "run_button.on_click(on_button_click)"
      ]
    },
    {
      "cell_type": "code",
      "execution_count": 18,
      "metadata": {
        "colab": {
          "base_uri": "https://localhost:8080/",
          "height": 292,
          "referenced_widgets": [
            "bbd92935c3a1406b8e0abf224d29f2b9",
            "a2f2b2a6b3d64a01b125cf830316ef25",
            "900a72e820084d11890ce25c741d54fa",
            "b6f716c5290e4cb59085925e731678a3",
            "99b0fc5390c8466394b74add9a50324f",
            "199456e1f8ec4c94a2e5f9c506e5ac50",
            "9bbead47a7034cd8b8730098a416a21b",
            "c428d749a8674eb396962cbdba4ff2a0",
            "a985457055b94f35be6b4b9b0bd45518",
            "7dd66c0ebf1c4cc28859714126d05e6e",
            "922752397b024855880a80c7c4112e29"
          ]
        },
        "id": "plhmUDrS_WYA",
        "outputId": "dbd9e58c-a415-4ecc-c653-1cfb3f6c7c15"
      },
      "outputs": [
        {
          "data": {
            "text/markdown": [
              "### 🔢 Token Cost Estimator using `tiktoken`"
            ],
            "text/plain": [
              "<IPython.core.display.Markdown object>"
            ]
          },
          "metadata": {},
          "output_type": "display_data"
        },
        {
          "data": {
            "application/vnd.jupyter.widget-view+json": {
              "model_id": "b1309c56748448a6a4207dd9b6d5d580",
              "version_major": 2,
              "version_minor": 0
            },
            "text/plain": [
              "Textarea(value='', description='Input:', layout=Layout(height='150px', width='100%'), placeholder='Type someth…"
            ]
          },
          "metadata": {},
          "output_type": "display_data"
        },
        {
          "data": {
            "application/vnd.jupyter.widget-view+json": {
              "model_id": "e1f9f554f60c46f8be34dada7eb890de",
              "version_major": 2,
              "version_minor": 0
            },
            "text/plain": [
              "Dropdown(description='Model:', options=('gpt-3.5-turbo', 'gpt-4', 'gpt-4-turbo'), value='gpt-3.5-turbo')"
            ]
          },
          "metadata": {},
          "output_type": "display_data"
        },
        {
          "data": {
            "application/vnd.jupyter.widget-view+json": {
              "model_id": "e9b6ba4fa6004d7ea46267b6131bbf10",
              "version_major": 2,
              "version_minor": 0
            },
            "text/plain": [
              "Button(button_style='success', description='Estimate Tokens & Cost', style=ButtonStyle())"
            ]
          },
          "metadata": {},
          "output_type": "display_data"
        },
        {
          "data": {
            "application/vnd.jupyter.widget-view+json": {
              "model_id": "ba2803977c024744b9a8cd67a83a35cd",
              "version_major": 2,
              "version_minor": 0
            },
            "text/plain": [
              "Output()"
            ]
          },
          "metadata": {},
          "output_type": "display_data"
        }
      ],
      "source": [
        "display(Markdown(\"### 🔢 Token Cost Estimator using `tiktoken`\"))\n",
        "display(text_input, model_dropdown, run_button, output)"
      ]
    },
    {
      "cell_type": "code",
      "execution_count": 11,
      "metadata": {
        "id": "xFBjLMG__YQk"
      },
      "outputs": [],
      "source": []
    }
  ],
  "metadata": {
    "colab": {
      "provenance": []
    },
    "kernelspec": {
      "display_name": "Python 3",
      "language": "python",
      "name": "python3"
    },
    "language_info": {
      "codemirror_mode": {
        "name": "ipython",
        "version": 3
      },
      "file_extension": ".py",
      "mimetype": "text/x-python",
      "name": "python",
      "nbconvert_exporter": "python",
      "pygments_lexer": "ipython3",
      "version": "3.12.8"
    },
    "widgets": {
      "application/vnd.jupyter.widget-state+json": {
        "199456e1f8ec4c94a2e5f9c506e5ac50": {
          "model_module": "@jupyter-widgets/controls",
          "model_module_version": "1.5.0",
          "model_name": "DescriptionStyleModel",
          "state": {
            "_model_module": "@jupyter-widgets/controls",
            "_model_module_version": "1.5.0",
            "_model_name": "DescriptionStyleModel",
            "_view_count": null,
            "_view_module": "@jupyter-widgets/base",
            "_view_module_version": "1.2.0",
            "_view_name": "StyleView",
            "description_width": ""
          }
        },
        "7dd66c0ebf1c4cc28859714126d05e6e": {
          "model_module": "@jupyter-widgets/output",
          "model_module_version": "1.0.0",
          "model_name": "OutputModel",
          "state": {
            "_dom_classes": [],
            "_model_module": "@jupyter-widgets/output",
            "_model_module_version": "1.0.0",
            "_model_name": "OutputModel",
            "_view_count": null,
            "_view_module": "@jupyter-widgets/output",
            "_view_module_version": "1.0.0",
            "_view_name": "OutputView",
            "layout": "IPY_MODEL_922752397b024855880a80c7c4112e29",
            "msg_id": "",
            "outputs": []
          }
        },
        "900a72e820084d11890ce25c741d54fa": {
          "model_module": "@jupyter-widgets/controls",
          "model_module_version": "1.5.0",
          "model_name": "DescriptionStyleModel",
          "state": {
            "_model_module": "@jupyter-widgets/controls",
            "_model_module_version": "1.5.0",
            "_model_name": "DescriptionStyleModel",
            "_view_count": null,
            "_view_module": "@jupyter-widgets/base",
            "_view_module_version": "1.2.0",
            "_view_name": "StyleView",
            "description_width": ""
          }
        },
        "922752397b024855880a80c7c4112e29": {
          "model_module": "@jupyter-widgets/base",
          "model_module_version": "1.2.0",
          "model_name": "LayoutModel",
          "state": {
            "_model_module": "@jupyter-widgets/base",
            "_model_module_version": "1.2.0",
            "_model_name": "LayoutModel",
            "_view_count": null,
            "_view_module": "@jupyter-widgets/base",
            "_view_module_version": "1.2.0",
            "_view_name": "LayoutView",
            "align_content": null,
            "align_items": null,
            "align_self": null,
            "border": null,
            "bottom": null,
            "display": null,
            "flex": null,
            "flex_flow": null,
            "grid_area": null,
            "grid_auto_columns": null,
            "grid_auto_flow": null,
            "grid_auto_rows": null,
            "grid_column": null,
            "grid_gap": null,
            "grid_row": null,
            "grid_template_areas": null,
            "grid_template_columns": null,
            "grid_template_rows": null,
            "height": null,
            "justify_content": null,
            "justify_items": null,
            "left": null,
            "margin": null,
            "max_height": null,
            "max_width": null,
            "min_height": null,
            "min_width": null,
            "object_fit": null,
            "object_position": null,
            "order": null,
            "overflow": null,
            "overflow_x": null,
            "overflow_y": null,
            "padding": null,
            "right": null,
            "top": null,
            "visibility": null,
            "width": null
          }
        },
        "99b0fc5390c8466394b74add9a50324f": {
          "model_module": "@jupyter-widgets/base",
          "model_module_version": "1.2.0",
          "model_name": "LayoutModel",
          "state": {
            "_model_module": "@jupyter-widgets/base",
            "_model_module_version": "1.2.0",
            "_model_name": "LayoutModel",
            "_view_count": null,
            "_view_module": "@jupyter-widgets/base",
            "_view_module_version": "1.2.0",
            "_view_name": "LayoutView",
            "align_content": null,
            "align_items": null,
            "align_self": null,
            "border": null,
            "bottom": null,
            "display": null,
            "flex": null,
            "flex_flow": null,
            "grid_area": null,
            "grid_auto_columns": null,
            "grid_auto_flow": null,
            "grid_auto_rows": null,
            "grid_column": null,
            "grid_gap": null,
            "grid_row": null,
            "grid_template_areas": null,
            "grid_template_columns": null,
            "grid_template_rows": null,
            "height": null,
            "justify_content": null,
            "justify_items": null,
            "left": null,
            "margin": null,
            "max_height": null,
            "max_width": null,
            "min_height": null,
            "min_width": null,
            "object_fit": null,
            "object_position": null,
            "order": null,
            "overflow": null,
            "overflow_x": null,
            "overflow_y": null,
            "padding": null,
            "right": null,
            "top": null,
            "visibility": null,
            "width": null
          }
        },
        "9bbead47a7034cd8b8730098a416a21b": {
          "model_module": "@jupyter-widgets/controls",
          "model_module_version": "1.5.0",
          "model_name": "ButtonModel",
          "state": {
            "_dom_classes": [],
            "_model_module": "@jupyter-widgets/controls",
            "_model_module_version": "1.5.0",
            "_model_name": "ButtonModel",
            "_view_count": null,
            "_view_module": "@jupyter-widgets/controls",
            "_view_module_version": "1.5.0",
            "_view_name": "ButtonView",
            "button_style": "success",
            "description": "Estimate Tokens & Cost",
            "disabled": false,
            "icon": "",
            "layout": "IPY_MODEL_c428d749a8674eb396962cbdba4ff2a0",
            "style": "IPY_MODEL_a985457055b94f35be6b4b9b0bd45518",
            "tooltip": ""
          }
        },
        "a2f2b2a6b3d64a01b125cf830316ef25": {
          "model_module": "@jupyter-widgets/base",
          "model_module_version": "1.2.0",
          "model_name": "LayoutModel",
          "state": {
            "_model_module": "@jupyter-widgets/base",
            "_model_module_version": "1.2.0",
            "_model_name": "LayoutModel",
            "_view_count": null,
            "_view_module": "@jupyter-widgets/base",
            "_view_module_version": "1.2.0",
            "_view_name": "LayoutView",
            "align_content": null,
            "align_items": null,
            "align_self": null,
            "border": null,
            "bottom": null,
            "display": null,
            "flex": null,
            "flex_flow": null,
            "grid_area": null,
            "grid_auto_columns": null,
            "grid_auto_flow": null,
            "grid_auto_rows": null,
            "grid_column": null,
            "grid_gap": null,
            "grid_row": null,
            "grid_template_areas": null,
            "grid_template_columns": null,
            "grid_template_rows": null,
            "height": "150px",
            "justify_content": null,
            "justify_items": null,
            "left": null,
            "margin": null,
            "max_height": null,
            "max_width": null,
            "min_height": null,
            "min_width": null,
            "object_fit": null,
            "object_position": null,
            "order": null,
            "overflow": null,
            "overflow_x": null,
            "overflow_y": null,
            "padding": null,
            "right": null,
            "top": null,
            "visibility": null,
            "width": "100%"
          }
        },
        "a985457055b94f35be6b4b9b0bd45518": {
          "model_module": "@jupyter-widgets/controls",
          "model_module_version": "1.5.0",
          "model_name": "ButtonStyleModel",
          "state": {
            "_model_module": "@jupyter-widgets/controls",
            "_model_module_version": "1.5.0",
            "_model_name": "ButtonStyleModel",
            "_view_count": null,
            "_view_module": "@jupyter-widgets/base",
            "_view_module_version": "1.2.0",
            "_view_name": "StyleView",
            "button_color": null,
            "font_weight": ""
          }
        },
        "b6f716c5290e4cb59085925e731678a3": {
          "model_module": "@jupyter-widgets/controls",
          "model_module_version": "1.5.0",
          "model_name": "DropdownModel",
          "state": {
            "_dom_classes": [],
            "_model_module": "@jupyter-widgets/controls",
            "_model_module_version": "1.5.0",
            "_model_name": "DropdownModel",
            "_options_labels": [
              "gpt-3.5-turbo",
              "gpt-4",
              "gpt-4-turbo"
            ],
            "_view_count": null,
            "_view_module": "@jupyter-widgets/controls",
            "_view_module_version": "1.5.0",
            "_view_name": "DropdownView",
            "description": "Model:",
            "description_tooltip": null,
            "disabled": false,
            "index": 0,
            "layout": "IPY_MODEL_99b0fc5390c8466394b74add9a50324f",
            "style": "IPY_MODEL_199456e1f8ec4c94a2e5f9c506e5ac50"
          }
        },
        "bbd92935c3a1406b8e0abf224d29f2b9": {
          "model_module": "@jupyter-widgets/controls",
          "model_module_version": "1.5.0",
          "model_name": "TextareaModel",
          "state": {
            "_dom_classes": [],
            "_model_module": "@jupyter-widgets/controls",
            "_model_module_version": "1.5.0",
            "_model_name": "TextareaModel",
            "_view_count": null,
            "_view_module": "@jupyter-widgets/controls",
            "_view_module_version": "1.5.0",
            "_view_name": "TextareaView",
            "continuous_update": true,
            "description": "Input",
            "description_tooltip": null,
            "disabled": false,
            "layout": "IPY_MODEL_a2f2b2a6b3d64a01b125cf830316ef25",
            "placeholder": "Type something",
            "rows": null,
            "style": "IPY_MODEL_900a72e820084d11890ce25c741d54fa",
            "value": ""
          }
        },
        "c428d749a8674eb396962cbdba4ff2a0": {
          "model_module": "@jupyter-widgets/base",
          "model_module_version": "1.2.0",
          "model_name": "LayoutModel",
          "state": {
            "_model_module": "@jupyter-widgets/base",
            "_model_module_version": "1.2.0",
            "_model_name": "LayoutModel",
            "_view_count": null,
            "_view_module": "@jupyter-widgets/base",
            "_view_module_version": "1.2.0",
            "_view_name": "LayoutView",
            "align_content": null,
            "align_items": null,
            "align_self": null,
            "border": null,
            "bottom": null,
            "display": null,
            "flex": null,
            "flex_flow": null,
            "grid_area": null,
            "grid_auto_columns": null,
            "grid_auto_flow": null,
            "grid_auto_rows": null,
            "grid_column": null,
            "grid_gap": null,
            "grid_row": null,
            "grid_template_areas": null,
            "grid_template_columns": null,
            "grid_template_rows": null,
            "height": null,
            "justify_content": null,
            "justify_items": null,
            "left": null,
            "margin": null,
            "max_height": null,
            "max_width": null,
            "min_height": null,
            "min_width": null,
            "object_fit": null,
            "object_position": null,
            "order": null,
            "overflow": null,
            "overflow_x": null,
            "overflow_y": null,
            "padding": null,
            "right": null,
            "top": null,
            "visibility": null,
            "width": null
          }
        }
      }
    }
  },
  "nbformat": 4,
  "nbformat_minor": 0
}
