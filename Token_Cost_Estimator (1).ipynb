{
  "nbformat": 4,
  "nbformat_minor": 0,
  "metadata": {
    "colab": {
      "provenance": []
    },
    "kernelspec": {
      "name": "python3",
      "display_name": "Python 3"
    },
    "language_info": {
      "name": "python"
    }
  },
  "cells": [
    {
      "cell_type": "code",
      "execution_count": 7,
      "metadata": {
        "id": "Rs_9IgVi8zO0"
      },
      "outputs": [],
      "source": [
        "import tiktoken"
      ]
    },
    {
      "cell_type": "code",
      "source": [
        "model_pricing = {\n",
        "    'gpt-3.5-turbo': 0.0015,\n",
        "    'gpt-4':0.03,\n",
        "    'gpt-4-turbo':0.01\n",
        "}"
      ],
      "metadata": {
        "id": "3pvSjK3Z9Mc4"
      },
      "execution_count": 8,
      "outputs": []
    },
    {
      "cell_type": "code",
      "source": [
        "usd_to_inr = 87.60"
      ],
      "metadata": {
        "id": "JKPnsK2-ezHx"
      },
      "execution_count": 9,
      "outputs": []
    },
    {
      "cell_type": "code",
      "source": [
        "def count_tokens(text,model):\n",
        "  try:\n",
        "    enc = tiktoken.encoding_for_model(model)\n",
        "  except KeyError:\n",
        "    enc = tiktoken.get_encoding('cl100k_base')\n",
        "  tokens = enc.encode(text)\n",
        "  return len(tokens)"
      ],
      "metadata": {
        "id": "kqAiavwf9dXD"
      },
      "execution_count": 10,
      "outputs": []
    },
    {
      "cell_type": "code",
      "source": [
        "def estimate_cost(token, model):\n",
        "    price_per_1k = model_pricing[model]\n",
        "    cost_usd = (token / 1000) * price_per_1k\n",
        "    cost_inr = cost_usd * usd_to_inr\n",
        "    return cost_usd, cost_inr"
      ],
      "metadata": {
        "id": "eq5lar329158"
      },
      "execution_count": 11,
      "outputs": []
    },
    {
      "cell_type": "code",
      "source": [
        "def main():\n",
        "    print(\"Available Models:\", ', '.join(model_pricing.keys()))\n",
        "    model = input(\"Enter model name: \").strip()\n",
        "\n",
        "    if model not in model_pricing:\n",
        "        print(\"Invalid model name.\")\n",
        "        return\n",
        "\n",
        "    text = input(\"Enter your text:\\n\")\n",
        "\n",
        "    token_count = count_tokens(text, model)\n",
        "    cost_usd, cost_inr = estimate_cost(token_count, model)\n",
        "\n",
        "    print(\"\\n--- Results ---\")\n",
        "    print(f\"Token Count: {token_count}\")\n",
        "    print(f\"Estimated Cost: ${cost_usd:.6f} USD\")\n",
        "    print(f\"Estimated Cost: ₹{cost_inr:.2f} INR\")"
      ],
      "metadata": {
        "id": "k-OgTBIM-DKp"
      },
      "execution_count": 12,
      "outputs": []
    },
    {
      "cell_type": "code",
      "source": [
        "main()"
      ],
      "metadata": {
        "colab": {
          "base_uri": "https://localhost:8080/"
        },
        "id": "N9_CHvUT-gt1",
        "outputId": "05665f90-90f7-4ab2-8a7e-8dd82abffebf"
      },
      "execution_count": 16,
      "outputs": [
        {
          "output_type": "stream",
          "name": "stdout",
          "text": [
            "Available Models: gpt-3.5-turbo, gpt-4, gpt-4-turbo\n",
            "Enter model name: gpt-4\n",
            "Enter your text:\n",
            "Hi I am Yatharth interning at Fraction Labs\n",
            "\n",
            "--- Results ---\n",
            "Token Count: 11\n",
            "Estimated Cost: $0.000330 USD\n",
            "Estimated Cost: ₹0.03 INR\n"
          ]
        }
      ]
    }
  ]
}